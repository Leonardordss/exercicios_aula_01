{
 "cells": [
  {
   "cell_type": "code",
   "execution_count": 4,
   "metadata": {},
   "outputs": [
    {
     "name": "stdout",
     "output_type": "stream",
     "text": [
      "Requirement already satisfied: pandas in c:\\users\\dsadm\\appdata\\local\\programs\\python\\python311\\lib\\site-packages (2.1.1)\n",
      "Requirement already satisfied: numpy>=1.23.2 in c:\\users\\dsadm\\appdata\\local\\programs\\python\\python311\\lib\\site-packages (from pandas) (1.25.2)\n",
      "Requirement already satisfied: python-dateutil>=2.8.2 in c:\\users\\dsadm\\appdata\\roaming\\python\\python311\\site-packages (from pandas) (2.8.2)\n",
      "Requirement already satisfied: pytz>=2020.1 in c:\\users\\dsadm\\appdata\\local\\programs\\python\\python311\\lib\\site-packages (from pandas) (2023.3)\n",
      "Requirement already satisfied: tzdata>=2022.1 in c:\\users\\dsadm\\appdata\\local\\programs\\python\\python311\\lib\\site-packages (from pandas) (2023.3)\n",
      "Requirement already satisfied: six>=1.5 in c:\\users\\dsadm\\appdata\\roaming\\python\\python311\\site-packages (from python-dateutil>=2.8.2->pandas) (1.16.0)\n",
      "Note: you may need to restart the kernel to use updated packages.\n"
     ]
    },
    {
     "name": "stderr",
     "output_type": "stream",
     "text": [
      "\n",
      "[notice] A new release of pip is available: 23.3.1 -> 24.2\n",
      "[notice] To update, run: python.exe -m pip install --upgrade pip\n"
     ]
    }
   ],
   "source": [
    "pip install pandas"
   ]
  },
  {
   "cell_type": "code",
   "execution_count": 5,
   "metadata": {},
   "outputs": [],
   "source": [
    "import pandas as pd"
   ]
  },
  {
   "cell_type": "code",
   "execution_count": null,
   "metadata": {},
   "outputs": [],
   "source": [
    "#EXERCICIO 1"
   ]
  },
  {
   "cell_type": "code",
   "execution_count": 11,
   "metadata": {},
   "outputs": [],
   "source": [
    "# Cria o dicionário\n",
    "Dicionario = {\n",
    "    \"ID\": [1,2,3,4,5,6],\n",
    "    \"Nomes\": ['Alice', 'Julia', 'Bruna', 'Daniel', 'Filipe', 'Silvio'],\n",
    "    \"Idade\": [19,22,28,34,28,48],\n",
    "    \"Profissões\": ['Direito', 'Engenharia', 'Enfermagem', 'Engenheiro Civil', 'Cientista de Computação', 'Engenheiro Eletrônico']\n",
    "}"
   ]
  },
  {
   "cell_type": "code",
   "execution_count": 24,
   "metadata": {},
   "outputs": [
    {
     "data": {
      "text/html": [
       "<div>\n",
       "<style scoped>\n",
       "    .dataframe tbody tr th:only-of-type {\n",
       "        vertical-align: middle;\n",
       "    }\n",
       "\n",
       "    .dataframe tbody tr th {\n",
       "        vertical-align: top;\n",
       "    }\n",
       "\n",
       "    .dataframe thead th {\n",
       "        text-align: right;\n",
       "    }\n",
       "</style>\n",
       "<table border=\"1\" class=\"dataframe\">\n",
       "  <thead>\n",
       "    <tr style=\"text-align: right;\">\n",
       "      <th></th>\n",
       "      <th>ID</th>\n",
       "      <th>Nomes</th>\n",
       "      <th>Idade</th>\n",
       "      <th>Profissões</th>\n",
       "    </tr>\n",
       "  </thead>\n",
       "  <tbody>\n",
       "    <tr>\n",
       "      <th>1ª Linha</th>\n",
       "      <td>1</td>\n",
       "      <td>Alice</td>\n",
       "      <td>19</td>\n",
       "      <td>Direito</td>\n",
       "    </tr>\n",
       "    <tr>\n",
       "      <th>2ª Linha</th>\n",
       "      <td>2</td>\n",
       "      <td>Julia</td>\n",
       "      <td>22</td>\n",
       "      <td>Engenharia</td>\n",
       "    </tr>\n",
       "    <tr>\n",
       "      <th>3ª Linha</th>\n",
       "      <td>3</td>\n",
       "      <td>Bruna</td>\n",
       "      <td>28</td>\n",
       "      <td>Enfermagem</td>\n",
       "    </tr>\n",
       "    <tr>\n",
       "      <th>4ª Linha</th>\n",
       "      <td>4</td>\n",
       "      <td>Daniel</td>\n",
       "      <td>34</td>\n",
       "      <td>Engenheiro Civil</td>\n",
       "    </tr>\n",
       "    <tr>\n",
       "      <th>5ª Linha</th>\n",
       "      <td>5</td>\n",
       "      <td>Filipe</td>\n",
       "      <td>28</td>\n",
       "      <td>Cientista de Computação</td>\n",
       "    </tr>\n",
       "    <tr>\n",
       "      <th>6ª Linha</th>\n",
       "      <td>6</td>\n",
       "      <td>Silvio</td>\n",
       "      <td>48</td>\n",
       "      <td>Engenheiro Eletrônico</td>\n",
       "    </tr>\n",
       "  </tbody>\n",
       "</table>\n",
       "</div>"
      ],
      "text/plain": [
       "          ID   Nomes  Idade               Profissões\n",
       "1ª Linha   1   Alice     19                  Direito\n",
       "2ª Linha   2   Julia     22               Engenharia\n",
       "3ª Linha   3   Bruna     28               Enfermagem\n",
       "4ª Linha   4  Daniel     34         Engenheiro Civil\n",
       "5ª Linha   5  Filipe     28  Cientista de Computação\n",
       "6ª Linha   6  Silvio     48    Engenheiro Eletrônico"
      ]
     },
     "execution_count": 24,
     "metadata": {},
     "output_type": "execute_result"
    }
   ],
   "source": [
    "labels = [\"1ª Linha\", \"2ª Linha\", \"3ª Linha\", \"4ª Linha\", \"5ª Linha\", \"6ª Linha\"]\n",
    "\n",
    "# Cria o DataFrame a partir do dicionário Dicionario\n",
    "dados = pd.DataFrame(Dicionario, index=labels)\n",
    "\n",
    "# Exibe as primeiras linhas do DataFrame\n",
    "dados.head(7)"
   ]
  },
  {
   "cell_type": "code",
   "execution_count": null,
   "metadata": {},
   "outputs": [],
   "source": [
    "#EXERCICIO 2"
   ]
  },
  {
   "cell_type": "code",
   "execution_count": 13,
   "metadata": {},
   "outputs": [],
   "source": [
    "# Cria o dicionário\n",
    "Dicionario2 = {\n",
    "    \"ID\": [1,2,3,4],\n",
    "    \"Numero de produtos fabricados\": [50,30,40,100]\n",
    "}"
   ]
  },
  {
   "cell_type": "code",
   "execution_count": 14,
   "metadata": {},
   "outputs": [
    {
     "data": {
      "text/html": [
       "<div>\n",
       "<style scoped>\n",
       "    .dataframe tbody tr th:only-of-type {\n",
       "        vertical-align: middle;\n",
       "    }\n",
       "\n",
       "    .dataframe tbody tr th {\n",
       "        vertical-align: top;\n",
       "    }\n",
       "\n",
       "    .dataframe thead th {\n",
       "        text-align: right;\n",
       "    }\n",
       "</style>\n",
       "<table border=\"1\" class=\"dataframe\">\n",
       "  <thead>\n",
       "    <tr style=\"text-align: right;\">\n",
       "      <th></th>\n",
       "      <th>ID</th>\n",
       "      <th>Numero de produtos fabricados</th>\n",
       "    </tr>\n",
       "  </thead>\n",
       "  <tbody>\n",
       "    <tr>\n",
       "      <th>1ª Linha</th>\n",
       "      <td>1</td>\n",
       "      <td>50</td>\n",
       "    </tr>\n",
       "    <tr>\n",
       "      <th>2ª Linha</th>\n",
       "      <td>2</td>\n",
       "      <td>30</td>\n",
       "    </tr>\n",
       "    <tr>\n",
       "      <th>3ª Linha</th>\n",
       "      <td>3</td>\n",
       "      <td>40</td>\n",
       "    </tr>\n",
       "    <tr>\n",
       "      <th>4ª Linha</th>\n",
       "      <td>4</td>\n",
       "      <td>100</td>\n",
       "    </tr>\n",
       "  </tbody>\n",
       "</table>\n",
       "</div>"
      ],
      "text/plain": [
       "          ID  Numero de produtos fabricados\n",
       "1ª Linha   1                             50\n",
       "2ª Linha   2                             30\n",
       "3ª Linha   3                             40\n",
       "4ª Linha   4                            100"
      ]
     },
     "execution_count": 14,
     "metadata": {},
     "output_type": "execute_result"
    }
   ],
   "source": [
    "labels2 = [\"1ª Linha\", \"2ª Linha\", \"3ª Linha\", \"4ª Linha\"]\n",
    "\n",
    "# Cria o DataFrame a partir do dicionário Dicionario\n",
    "dados2 = pd.DataFrame(Dicionario2, index=labels2)\n",
    "\n",
    "# Exibe as primeiras linhas do DataFrame\n",
    "dados2.head()"
   ]
  },
  {
   "cell_type": "code",
   "execution_count": null,
   "metadata": {},
   "outputs": [],
   "source": [
    "#EXERCICIO 3"
   ]
  },
  {
   "cell_type": "code",
   "execution_count": 20,
   "metadata": {},
   "outputs": [],
   "source": [
    "# Cria o dicionário\n",
    "Dicionario3 = {\n",
    "    \"ID\": [1,2,3,4],\n",
    "    \"Nome\": ['Ana', 'Pedro', 'Maria', 'João'],\n",
    "    \"Setores\": ['RH', 'Vendas', 'Administrativo', 'Produção']\n",
    "}\n",
    "\n",
    "Dicionario4 = {\n",
    "    \"ID\": [1,2,3,4],\n",
    "    \"Salarios\": [3000,2800,3200,2500]\n",
    "}"
   ]
  },
  {
   "cell_type": "code",
   "execution_count": 30,
   "metadata": {},
   "outputs": [],
   "source": [
    "Labels3 = [\"1ª Linha\", \"2ª Linha\", \"3ª Linha\", \"4ª Linha\"]\n",
    "Labels4 = ['5ª linha', '6ª linha', '7ª linha', '8ª linha']\n",
    "\n",
    "# Cria o DataFrame a partir do dicionário Dicionario\n",
    "dados3 = pd.DataFrame(Dicionario3, index=Labels3)\n",
    "dados4 = pd.DataFrame(Dicionario4, index=Labels4)"
   ]
  },
  {
   "cell_type": "code",
   "execution_count": 32,
   "metadata": {},
   "outputs": [
    {
     "data": {
      "text/html": [
       "<div>\n",
       "<style scoped>\n",
       "    .dataframe tbody tr th:only-of-type {\n",
       "        vertical-align: middle;\n",
       "    }\n",
       "\n",
       "    .dataframe tbody tr th {\n",
       "        vertical-align: top;\n",
       "    }\n",
       "\n",
       "    .dataframe thead th {\n",
       "        text-align: right;\n",
       "    }\n",
       "</style>\n",
       "<table border=\"1\" class=\"dataframe\">\n",
       "  <thead>\n",
       "    <tr style=\"text-align: right;\">\n",
       "      <th></th>\n",
       "      <th>ID</th>\n",
       "      <th>Nome</th>\n",
       "      <th>Setores</th>\n",
       "      <th>Salarios</th>\n",
       "    </tr>\n",
       "  </thead>\n",
       "  <tbody>\n",
       "    <tr>\n",
       "      <th>0</th>\n",
       "      <td>1</td>\n",
       "      <td>Ana</td>\n",
       "      <td>RH</td>\n",
       "      <td>3000</td>\n",
       "    </tr>\n",
       "    <tr>\n",
       "      <th>1</th>\n",
       "      <td>2</td>\n",
       "      <td>Pedro</td>\n",
       "      <td>Vendas</td>\n",
       "      <td>2800</td>\n",
       "    </tr>\n",
       "    <tr>\n",
       "      <th>2</th>\n",
       "      <td>3</td>\n",
       "      <td>Maria</td>\n",
       "      <td>Administrativo</td>\n",
       "      <td>3200</td>\n",
       "    </tr>\n",
       "    <tr>\n",
       "      <th>3</th>\n",
       "      <td>4</td>\n",
       "      <td>João</td>\n",
       "      <td>Produção</td>\n",
       "      <td>2500</td>\n",
       "    </tr>\n",
       "  </tbody>\n",
       "</table>\n",
       "</div>"
      ],
      "text/plain": [
       "   ID   Nome         Setores  Salarios\n",
       "0   1    Ana              RH      3000\n",
       "1   2  Pedro          Vendas      2800\n",
       "2   3  Maria  Administrativo      3200\n",
       "3   4   João        Produção      2500"
      ]
     },
     "execution_count": 32,
     "metadata": {},
     "output_type": "execute_result"
    }
   ],
   "source": [
    "dados_df = pd.merge(dados3, dados4,how='inner',on='ID')\n",
    "\n",
    "dados_df.head(5)"
   ]
  },
  {
   "cell_type": "code",
   "execution_count": 1,
   "metadata": {},
   "outputs": [],
   "source": [
    "#EXERCICIO 4"
   ]
  },
  {
   "cell_type": "code",
   "execution_count": 6,
   "metadata": {},
   "outputs": [],
   "source": [
    "# Cria o dicionário\n",
    "Dicionario5 = {\n",
    "    \"Produto\": [\"Item A\",\"Item B\", \"Item A\"],\n",
    "    \"Quantidade\": [10, 5, 8],\n",
    "    \"Valor\": [100, 50, 80],\n",
    "    \"Data\": ['2023-01-01', '2023-01-02', '2023-01-03']\n",
    "}\n",
    "\n",
    "Dicionario6 = {\n",
    "    \"Produto\": [\"Item C\",\"Item B\", \"Item D\"],\n",
    "    \"Quantidade\": [12, 6, 3],\n",
    "    \"Valor\": [120, 60, 30],\n",
    "    \"Data\": ['2023-02-01', '2023-02-02', '2023-02-03']\n",
    "}"
   ]
  },
  {
   "cell_type": "code",
   "execution_count": 16,
   "metadata": {},
   "outputs": [],
   "source": [
    "Labels5 = [\"1ª Linha\", \"2ª Linha\", \"3ª Linha\"]\n",
    "Labels6 = ['4ª linha', '5ª linha', '6ª linha']\n",
    "\n",
    "# Cria o DataFrame a partir do dicionário Dicionario\n",
    "dados5 = pd.DataFrame(Dicionario5, index=Labels5)\n",
    "dados6 = pd.DataFrame(Dicionario6, index=Labels6)"
   ]
  },
  {
   "cell_type": "code",
   "execution_count": 21,
   "metadata": {},
   "outputs": [
    {
     "name": "stdout",
     "output_type": "stream",
     "text": [
      "  Produto  Quantidade  Valor        Data\n",
      "0  Item A          10    100  2023-01-01\n",
      "1  Item B           5     50  2023-01-02\n",
      "2  Item A           8     80  2023-01-03\n",
      "3  Item C          12    120  2023-02-01\n",
      "4  Item B           6     60  2023-02-02\n",
      "5  Item D           3     30  2023-02-03\n",
      "  Produto  Quantidade  Valor        Data\n",
      "0  Item A          10    100  2023-01-01\n",
      "1  Item B           5     50  2023-01-02\n",
      "2  Item A           8     80  2023-01-03\n",
      "3  Item C          12    120  2023-02-01\n",
      "4  Item B           6     60  2023-02-02\n",
      "5  Item D           3     30  2023-02-03\n"
     ]
    }
   ],
   "source": [
    "\n",
    "# Concatena os DataFrames verticalmente\n",
    "dados_concat = pd.concat([dados5, dados6], ignore_index=True)\n",
    "\n",
    "print (dados_concat)\n",
    "print (dados_concat)"
   ]
  }
 ],
 "metadata": {
  "kernelspec": {
   "display_name": "Python 3",
   "language": "python",
   "name": "python3"
  },
  "language_info": {
   "codemirror_mode": {
    "name": "ipython",
    "version": 3
   },
   "file_extension": ".py",
   "mimetype": "text/x-python",
   "name": "python",
   "nbconvert_exporter": "python",
   "pygments_lexer": "ipython3",
   "version": "3.11.5"
  }
 },
 "nbformat": 4,
 "nbformat_minor": 2
}
